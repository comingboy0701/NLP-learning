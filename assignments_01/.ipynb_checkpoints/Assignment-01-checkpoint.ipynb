{
 "cells": [
  {
   "cell_type": "markdown",
   "metadata": {},
   "source": [
    "## Lesson-01 Assignment"
   ]
  },
  {
   "cell_type": "markdown",
   "metadata": {},
   "source": [
    ">"
   ]
  },
  {
   "cell_type": "markdown",
   "metadata": {},
   "source": [
    "`各位同学大家好，欢迎各位开始学习我们的人工智能课程。这门课程假设大家不具备机器学习和人工智能的知识，但是希望大家具备初级的Python编程能力。根据往期同学的实际反馈，我们课程的完结之后 能力能够超过80%的计算机人工智能/深度学习方向的硕士生的能力。`"
   ]
  },
  {
   "cell_type": "markdown",
   "metadata": {},
   "source": [
    "## 本次作业的内容"
   ]
  },
  {
   "cell_type": "markdown",
   "metadata": {},
   "source": [
    "#### 1. 复现课堂代码\n",
    "\n",
    "在本部分，你需要参照我们给大家的GitHub地址里边的课堂代码，结合课堂内容，复现内容。"
   ]
  },
  {
   "cell_type": "markdown",
   "metadata": {},
   "source": [
    "#### 第1 部分代码 - 组成句子"
   ]
  },
  {
   "cell_type": "code",
   "execution_count": 23,
   "metadata": {},
   "outputs": [
    {
     "name": "stdout",
     "output_type": "stream",
     "text": [
      "这个好看的蓝色的好看的蓝色的桌子听着一个桌子\n",
      "if(course3){\n",
      "....if(infoinfo1){\n",
      "....while(info1){\n",
      "....coursestudent3=name1}}}\n"
     ]
    }
   ],
   "source": [
    "import random\n",
    "\n",
    "def adj():\n",
    "    return random.choice('蓝色的|好看的|小小的'.split('|'))\n",
    "\n",
    "def adj_star():\n",
    "    return random.choice([lambda :'', lambda :adj()+adj_star()])()\n",
    "\n",
    "adj_star()\n",
    "\n",
    "\n",
    "def create_grammar(grammar_str, split='=>', line_split='\\n'):\n",
    "    grammar = {}\n",
    "    for line in grammar_str.split(line_split):\n",
    "        if not line.strip(): continue\n",
    "        exp, stmt = line.split(split)\n",
    "        grammar[exp.strip()] = [s.split() for s in stmt.split('|')]\n",
    "    return grammar\n",
    "\n",
    "def generate(gram, target):\n",
    "    if target not in gram: return target  # means target is a terminal expression\n",
    "\n",
    "    expaned = [generate(gram, t) for t in random.choice(gram[target])]\n",
    "    return ''.join([e if e !='/n' else '\\n'for e in expaned if e != 'null'])\n",
    "\n",
    "\n",
    "simple_grammar = \"\"\"\n",
    "sentence => noun_phrase verb_phrase\n",
    "noun_phrase => Article Adj* noun\n",
    "Adj* => null | Adj Adj*\n",
    "verb_phrase => verb noun_phrase\n",
    "Article =>  一个 | 这个\n",
    "noun =>   女人 |  篮球 | 桌子 | 小猫\n",
    "verb => 看着   |  坐在 |  听着 | 看见\n",
    "Adj =>  蓝色的 | 好看的 | 小小的\n",
    "\"\"\"\n",
    "\n",
    "programming = \"\"\"\n",
    "stmt => if_exp | while_exp | assignment \n",
    "assignment => var = var\n",
    "if_exp => if ( var ) { /n .... stmt }\n",
    "while_exp=> while ( var ) { /n .... stmt }\n",
    "var => chars number\n",
    "chars => char | char char\n",
    "char => student | name | info  | database | course\n",
    "number => 1 | 2 | 3\n",
    "\"\"\"\n",
    "\n",
    "print (generate(gram=create_grammar(simple_grammar), target='sentence'))\n",
    "\n",
    "print(generate(gram=create_grammar(programming, split='=>'), target='stmt'))"
   ]
  },
  {
   "cell_type": "markdown",
   "metadata": {},
   "source": [
    "#### 第 2 部分代码 - 计算单词的概率"
   ]
  },
  {
   "cell_type": "code",
   "execution_count": 24,
   "metadata": {
    "scrolled": true
   },
   "outputs": [
    {
     "name": "stderr",
     "output_type": "stream",
     "text": [
      "Building prefix dict from the default dictionary ...\n",
      "Loading model from cache C:\\Users\\dell\\AppData\\Local\\Temp\\jieba.cache\n",
      "Loading model cost 0.831 seconds.\n",
      "Prefix dict has been built succesfully.\n"
     ]
    },
    {
     "data": {
      "text/plain": [
       "<Figure size 640x480 with 1 Axes>"
      ]
     },
     "metadata": {},
     "output_type": "display_data"
    }
   ],
   "source": [
    "import pandas as pd\n",
    "import jieba\n",
    "import re\n",
    "from functools import reduce\n",
    "from operator import add\n",
    "from collections import Counter\n",
    "import matplotlib.pyplot as plt\n",
    "def token(string):\n",
    "    return re.findall('\\w+',string)\n",
    "\n",
    "def cut(string):\n",
    "    return list(jieba.cut(string))\n",
    "\n",
    "filename = r'F:\\eclipsewokspace\\MachineLearing\\NLP\\datasource\\sqlResult_1558435.csv'\n",
    "content = pd.read_csv(filename,encoding='gb18030')\n",
    "articless = content['content'].tolist()\n",
    "articles = articless[:-1]\n",
    "articles_clean = [ ''.join( token(str(a))) for a in articles]\n",
    "\n",
    "# 这样写我电脑带不动，可能需要很大的内存吧\n",
    "# words_count = Counter(reduce(add, [cut(a) for a in articles_clean]))\n",
    "\n",
    "articles_cuts = []\n",
    "for string in  articles_clean:\n",
    "    articles_cuts +=cut(string)\n",
    "\n",
    "words_count = Counter(articles_cuts)\n",
    "words_count.most_common(100)\n",
    "frequiences = [f for w, f in words_count.most_common(100)]\n",
    "x = range(0,100)\n",
    "plt.plot(x,frequiences)\n",
    "plt.show()\n"
   ]
  },
  {
   "cell_type": "code",
   "execution_count": 26,
   "metadata": {},
   "outputs": [
    {
     "data": {
      "image/png": "[encoded data removed]",
      "text/plain": [
       "<Figure size 432x288 with 1 Axes>"
      ]
     },
     "metadata": {
      "needs_background": "light"
     },
     "output_type": "display_data"
    }
   ],
   "source": [
    "plt.plot(x,frequiences)\n",
    "plt.show()"
   ]
  },
  {
   "cell_type": "code",
   "execution_count": 27,
   "metadata": {},
   "outputs": [
    {
     "name": "stdout",
     "output_type": "stream",
     "text": [
      "3.0694036086031164e-05\n",
      "1.5518253997949965e-42\n"
     ]
    }
   ],
   "source": [
    "def prob_2(word1, word2):\n",
    "    if word1 + word2 in articles_cuts_gram2: return words_count_2[word1+word2] / words_count_len\n",
    "    else:\n",
    "        return 1 / len(articles_cuts_gram2)\n",
    "\n",
    "articles_cuts_gram2 = [''.join(articles_cuts[i:i+2]) for i in range(len(articles_cuts[:-2]))]\n",
    "words_count_2 = Counter(articles_cuts_gram2)\n",
    "words_count_len = len(articles_cuts_gram2)\n",
    "\n",
    "\n",
    "print(prob_2('我们', '在'))\n",
    "\n",
    "def get_probablity(sentence):\n",
    "    words = cut(sentence)\n",
    "    sentence_pro = 1\n",
    "    for i, word in enumerate(words[:-1]):\n",
    "        next_= words[i+1]\n",
    "        probability = prob_2(word, next_)\n",
    "        sentence_pro *= probability\n",
    "    return sentence_pro\n",
    "\n",
    "print(get_probablity('小明今天抽奖抽到一台苹果手机'))"
   ]
  },
  {
   "cell_type": "code",
   "execution_count": 28,
   "metadata": {},
   "outputs": [
    {
     "name": "stdout",
     "output_type": "stream",
     "text": [
      "1.2713588216582083e-28\n"
     ]
    }
   ],
   "source": [
    "words =  generate(gram=create_grammar(simple_grammar), target='sentence')\n",
    "print(get_probablity(words))"
   ]
  },
  {
   "cell_type": "code",
   "execution_count": 29,
   "metadata": {},
   "outputs": [
    {
     "name": "stdout",
     "output_type": "stream",
     "text": [
      "今天晚上请你吃大餐，我们一起吃日料 is better\n",
      "****************************************\n",
      "---- 今天晚上请你吃大餐，我们一起吃日料 with probility 1.9887103269962663e-66\n",
      "---- 明天晚上请你吃大餐，我们一起吃苹果 with probility 1.590968261597013e-66\n",
      "真是一只好看的小猫 is better\n",
      "****************************************\n",
      "---- 真事一只好看的小猫 with probility 4.6421571509616186e-34\n",
      "---- 真是一只好看的小猫 with probility 8.136696458612533e-27\n",
      "今晚我去吃火锅 is better\n",
      "****************************************\n",
      "---- 今晚我去吃火锅 with probility 3.4540459860320234e-20\n",
      "---- 今晚火锅去吃我 with probility 5.509221560518903e-28\n",
      "养乐多绿来一杯 is better\n",
      "****************************************\n",
      "---- 洋葱奶昔来一杯 with probility 1.8570139709849588e-22\n",
      "---- 养乐多绿来一杯 with probility 3.2549434476119147e-15\n"
     ]
    }
   ],
   "source": [
    "need_compared = [\n",
    "    \"今天晚上请你吃大餐，我们一起吃日料 明天晚上请你吃大餐，我们一起吃苹果\",\n",
    "    \"真事一只好看的小猫 真是一只好看的小猫\",\n",
    "    \"今晚我去吃火锅 今晚火锅去吃我\",\n",
    "    \"洋葱奶昔来一杯 养乐多绿来一杯\"\n",
    "]\n",
    "\n",
    "for s in need_compared:\n",
    "    s1, s2 = s.split()\n",
    "    p1, p2 = get_probablity(s1), get_probablity(s2)\n",
    "    better = s1 if p1> p2 else s2\n",
    "    print('%s is better' % better)\n",
    "    print('*'*40)\n",
    "    print('-' * 4 + ' {} with probility {}'.format(s1, p1))\n",
    "    print('-' * 4 + ' {} with probility {}'.format(s2, p2))"
   ]
  },
  {
   "cell_type": "markdown",
   "metadata": {},
   "source": [
    "#### 2. 请回答以下问题\n",
    "\n",
    "回答以下问题，并将问题发送至 mqgao@kaikeba.com中：\n",
    "```\n",
    "    2.1. what do you want to acquire in this course？\n",
    "    2.2. what problems do you want to solve？\n",
    "    2.3. what’s the advantages you have to finish you goal?\n",
    "    2.4. what’s the disadvantages you need to overcome to finish you goal?\n",
    "    2.5. How will you plan to study in this course period?\n",
    "```"
   ]
  },
  {
   "cell_type": "markdown",
   "metadata": {},
   "source": [
    "#### 3. 如何提交\n",
    "代码 + 此 jupyter 相关，提交至自己的 github 中(**所以请务必把GitHub按照班主任要求录入在Trello中**)；\n",
    "第2问，请提交至mqgao@kaikeba.com邮箱。\n",
    "#### 4. 作业截止时间\n",
    "此次作业截止时间为 2019.7.6日"
   ]
  },
  {
   "cell_type": "markdown",
   "metadata": {},
   "source": [
    "#### 5. 完成以下问答和编程练习"
   ]
  },
  {
   "cell_type": "markdown",
   "metadata": {},
   "source": [
    ">"
   ]
  },
  {
   "cell_type": "markdown",
   "metadata": {},
   "source": [
    "## 基础理论部分"
   ]
  },
  {
   "cell_type": "markdown",
   "metadata": {},
   "source": [
    "#### 0. Can you come up out 3 sceneraies which use AI methods? "
   ]
  },
  {
   "cell_type": "markdown",
   "metadata": {},
   "source": [
    "Ans: {自动驾驶，自动翻译，机械人}"
   ]
  },
  {
   "cell_type": "markdown",
   "metadata": {},
   "source": [
    "#### 1. How do we use Github; Why do we use Jupyter and Pycharm;"
   ]
  },
  {
   "cell_type": "markdown",
   "metadata": {},
   "source": [
    "Ans: {代码分享；Jupyter 更好的演示计算过程；Pycharm在大项目中使用，利于bug}"
   ]
  },
  {
   "cell_type": "markdown",
   "metadata": {},
   "source": [
    "#### 2. What's the Probability Model?"
   ]
  },
  {
   "cell_type": "markdown",
   "metadata": {},
   "source": [
    "Ans:根据已经出现的结果，预测将来下一步每一种结果可能发生情况的概率"
   ]
  },
  {
   "cell_type": "markdown",
   "metadata": {},
   "source": [
    "#### 3. Can you came up with some sceneraies at which we could use Probability Model?"
   ]
  },
  {
   "cell_type": "markdown",
   "metadata": {},
   "source": [
    "Ans: 股票预测，垃圾邮件分类（贝叶斯概率），赛马"
   ]
  },
  {
   "cell_type": "markdown",
   "metadata": {},
   "source": [
    "#### 4. Why do we use probability and what's the difficult points for programming based on parsing and pattern match?"
   ]
  },
  {
   "cell_type": "markdown",
   "metadata": {},
   "source": [
    "Ans:概率模型计算量比较小，基于匹配计算量太大，难以实现"
   ]
  },
  {
   "cell_type": "markdown",
   "metadata": {},
   "source": [
    "#### 5. What's the Language Model;"
   ]
  },
  {
   "cell_type": "markdown",
   "metadata": {},
   "source": [
    "Ans: $$language\\_model(string)= Probability(string)\\in (0,1)  $$ \n",
    "\n",
    "概率越接近 1，说明这个语言是越常见的\n",
    "\n",
    "越接近 0，说明这个语言是不常见的"
   ]
  },
  {
   "cell_type": "markdown",
   "metadata": {},
   "source": [
    "#### 6. Can you came up with some sceneraies at which we could use Language Model?\n"
   ]
  },
  {
   "cell_type": "markdown",
   "metadata": {},
   "source": [
    "Ans:智能聊天系统，翻译，语音识别"
   ]
  },
  {
   "cell_type": "markdown",
   "metadata": {},
   "source": [
    "#### 7. What's the 1-gram language model;"
   ]
  },
  {
   "cell_type": "markdown",
   "metadata": {},
   "source": [
    "Ans:"
   ]
  },
  {
   "cell_type": "markdown",
   "metadata": {},
   "source": [
    "#### 8. What's the disadvantages and advantages of 1-gram language model;"
   ]
  },
  {
   "cell_type": "markdown",
   "metadata": {},
   "source": [
    "Ans:"
   ]
  },
  {
   "cell_type": "markdown",
   "metadata": {},
   "source": [
    "#### 9. What't the 2-gram models;"
   ]
  },
  {
   "cell_type": "markdown",
   "metadata": {},
   "source": [
    "Ans:"
   ]
  },
  {
   "cell_type": "markdown",
   "metadata": {},
   "source": [
    "## 编程实践部分"
   ]
  },
  {
   "cell_type": "markdown",
   "metadata": {},
   "source": [
    "#### 1. 设计你自己的句子生成器"
   ]
  },
  {
   "cell_type": "markdown",
   "metadata": {},
   "source": [
    "如何生成句子是一个很经典的问题，从1940s开始，图灵提出机器智能的时候，就使用的是人类能不能流畅和计算机进行对话。和计算机对话的一个前提是，计算机能够生成语言。\n",
    "\n",
    "计算机如何能生成语言是一个经典但是又很复杂的问题。 我们课程上为大家介绍的是一种基于规则（Rule Based）的生成方法。该方法虽然提出的时间早，但是现在依然在很多地方能够大显身手。值得说明的是，现在很多很实用的算法，都是很久之前提出的，例如，二分查找提出与1940s, Dijstra算法提出于1960s 等等。"
   ]
  },
  {
   "cell_type": "markdown",
   "metadata": {},
   "source": [
    "在著名的电视剧，电影《西部世界》中，这些机器人们语言生成的方法就是使用的SyntaxTree生成语言的方法。\n",
    "\n",
    "> \n",
    ">\n",
    "\n",
    "![WstWorld](https://timgsa.baidu.com/timg?image&quality=80&size=b10000_10000&sec=1561818705&di=95ca9ff2ff37fcb88ae47b82c7079feb&src=http://s7.sinaimg.cn/mw690/006BKUGwzy75VK46FMi66&690)\n",
    "\n",
    "> \n",
    ">"
   ]
  },
  {
   "cell_type": "markdown",
   "metadata": {},
   "source": [
    "在这一部分，需要各位同学首先定义自己的语言。 大家可以先想一个应用场景，然后在这个场景下，定义语法。例如：\n",
    "\n",
    "在西部世界里，一个”人类“的语言可以定义为：\n",
    "``` \n",
    "human = \"\"\"\n",
    "human = 自己 寻找 活动\n",
    "自己 = 我 | 俺 | 我们 \n",
    "寻找 = 看看 | 找找 | 想找点\n",
    "活动 = 乐子 | 玩的\n",
    "\"\"\"\n",
    "```\n",
    "\n",
    "一个“接待员”的语言可以定义为\n",
    "```\n",
    "host = \"\"\"\n",
    "host = 寒暄 报数 询问 业务相关 结尾 \n",
    "报数 = 我是 数字 号 ,\n",
    "数字 = 单个数字 | 数字 单个数字 \n",
    "单个数字 = 1 | 2 | 3 | 4 | 5 | 6 | 7 | 8 | 9 \n",
    "寒暄 = 称谓 打招呼 | 打招呼\n",
    "称谓 = 人称 ,\n",
    "人称 = 先生 | 女士 | 小朋友\n",
    "打招呼 = 你好 | 您好 \n",
    "询问 = 请问你要 | 您需要\n",
    "业务相关 = 玩玩 具体业务\n",
    "玩玩 = 耍一耍 | 玩一玩\n",
    "具体业务 = 喝酒 | 打牌 | 打猎 | 赌博\n",
    "结尾 = 吗？\"\"\"\n",
    "\n",
    "```\n",
    "\n",
    "\n"
   ]
  },
  {
   "cell_type": "markdown",
   "metadata": {},
   "source": [
    "请定义你自己的语法: "
   ]
  },
  {
   "cell_type": "markdown",
   "metadata": {},
   "source": [
    "第一个语法："
   ]
  },
  {
   "cell_type": "markdown",
   "metadata": {},
   "source": [
    "天气预报"
   ]
  },
  {
   "cell_type": "code",
   "execution_count": 287,
   "metadata": {},
   "outputs": [],
   "source": [
    "you_need_replace_this_with_name_you_given1 = '''\n",
    "\n",
    "sentence => 日期 介词 天气 ， 动作 物品\n",
    "日期 => 今天 | 明天 | 马上 |2小时候 |未来\n",
    "介词 => 是  |有|会|出现\n",
    "天气 => 下雨|下雪| 大雾|晴朗|泥石流|大风|台风|高温\n",
    "动作 => 注意|需要|防止\n",
    "物品 => 带伞|带雨衣|保暖|防晒|感冒 |驾驶 |滑坡|雷电\n",
    "'''"
   ]
  },
  {
   "cell_type": "code",
   "execution_count": 312,
   "metadata": {},
   "outputs": [
    {
     "name": "stdout",
     "output_type": "stream",
     "text": [
      "未来会高温，防止带雨衣\n"
     ]
    }
   ],
   "source": [
    "words =  generate(gram=create_grammar(you_need_replace_this_with_name_you_given1), target='sentence')\n",
    "print(words)"
   ]
  },
  {
   "cell_type": "markdown",
   "metadata": {},
   "source": [
    "第二个语法："
   ]
  },
  {
   "cell_type": "markdown",
   "metadata": {},
   "source": [
    "夸赞别人"
   ]
  },
  {
   "cell_type": "code",
   "execution_count": 314,
   "metadata": {},
   "outputs": [],
   "source": [
    "you_need_replace_this_with_name_you_given2 = '''\n",
    "sentence =>  人物 \n",
    "人物 => 男 介词 男形容词 男宾 | 女 介词 女形容词 女宾\n",
    "男 => 哥们 | 兄弟 | 大叔 \n",
    "女 => 姑娘 | 美女 |媳妇|大姐|阿姨\n",
    "形容词 => 女形容词 | 男形容词 | 中\n",
    "女形容词 => 优雅的 | 贤淑的 | 温柔的|贤惠的\n",
    "男形容词 => 健壮的 | 帅气的 | 俊俏的|\n",
    "中 => 善良的|大方的|文静的|脱俗的|纯洁的|开朗的|活泼的|率直的|可爱的\n",
    "介词 =>  是一个| 确实是 |必须是|肯定是|当然是 |毫无疑问是\n",
    "宾语 => 男宾|女宾\n",
    "男宾 =>  小伙子 |男人 | 男孩 | 先生\n",
    "女宾 => 小姑娘 | 大美女 |姑娘|美女|女士\n",
    "'''"
   ]
  },
  {
   "cell_type": "markdown",
   "metadata": {},
   "source": [
    "TODO: 然后，使用自己之前定义的generate函数，使用此函数生成句子。"
   ]
  },
  {
   "cell_type": "code",
   "execution_count": 323,
   "metadata": {},
   "outputs": [
    {
     "name": "stdout",
     "output_type": "stream",
     "text": [
      "大叔肯定是俊俏的小伙子\n"
     ]
    }
   ],
   "source": [
    "words =  generate(gram=create_grammar(you_need_replace_this_with_name_you_given2), target='sentence')\n",
    "print(words)"
   ]
  },
  {
   "cell_type": "markdown",
   "metadata": {},
   "source": [
    "TODO: 然后，定义一个函数，generate_n，将generate扩展，使其能够生成n个句子:"
   ]
  },
  {
   "cell_type": "code",
   "execution_count": 362,
   "metadata": {},
   "outputs": [
    {
     "name": "stdout",
     "output_type": "stream",
     "text": [
      "['大叔肯定是小伙子', '兄弟毫无疑问是帅气的男人', '哥们肯定是俊俏的男孩', '哥们当然是健壮的先生', '大叔肯定是帅气的男孩', '姑娘毫无疑问是优雅的女士', '大姐当然是优雅的姑娘', '媳妇肯定是温柔的小姑娘', '哥们是一个帅气的先生', '媳妇确实是温柔的女士', '姑娘确实是贤惠的女士', '哥们肯定是俊俏的先生', '大叔当然是俊俏的小伙子', '美女当然是贤淑的小姑娘', '美女毫无疑问是贤淑的大美女', '哥们确实是健壮的男孩', '媳妇确实是贤惠的女士', '兄弟确实是小伙子', '阿姨确实是优雅的姑娘', '阿姨毫无疑问是贤淑的美女']\n"
     ]
    }
   ],
   "source": [
    "def generate_n(gram,target,n= 20):\n",
    "    sentences = []\n",
    "    for i in range(20):\n",
    "        words = generate(gram=create_grammar(gram, split='=>'), target=target)\n",
    "        sentences .append(words)\n",
    "    # you code here \n",
    "    return sentences\n",
    "sentences = generate_n(you_need_replace_this_with_name_you_given2,'sentence', 20)\n",
    "print(sentences)"
   ]
  },
  {
   "cell_type": "markdown",
   "metadata": {},
   "source": [
    ">"
   ]
  },
  {
   "cell_type": "markdown",
   "metadata": {},
   "source": [
    "#### 2. 使用新数据源完成语言模型的训练"
   ]
  },
  {
   "cell_type": "markdown",
   "metadata": {},
   "source": [
    "按照我们上文中定义的`prob_2`函数，我们更换一个文本数据源，获得新的Language Model:\n",
    "\n",
    "1. 下载文本数据集（你可以在以下数据集中任选一个，也可以两个都使用）\n",
    "    + 可选数据集1，保险行业问询对话集： https://github.com/Computing-Intelligence/insuranceqa-corpus-zh/raw/release/corpus/pool/train.txt.gz\n",
    "    + 可选数据集2：豆瓣评论数据集：https://github.com/Computing-Intelligence/datasource/raw/master/movie_comments.csv\n",
    "2. 修改代码，获得新的**2-gram**语言模型\n",
    "    + 进行文本清洗，获得所有的纯文本\n",
    "    + 将这些文本进行切词\n",
    "    + 送入之前定义的语言模型中，判断文本的合理程度"
   ]
  },
  {
   "cell_type": "code",
   "execution_count": 367,
   "metadata": {},
   "outputs": [
    {
     "name": "stderr",
     "output_type": "stream",
     "text": [
      "E:\\python36\\Lib\\site-packages\\ipykernel_launcher.py:8: ParserWarning: Falling back to the 'python' engine because the 'c' engine does not support regex separators (separators > 1 char and different from '\\s+' are interpreted as regex); you can avoid this warning by specifying engine='python'.\n",
      "  \n"
     ]
    },
    {
     "data": {
      "image/png": "[encoded data removed]",
      "text/plain": [
       "<Figure size 432x288 with 1 Axes>"
      ]
     },
     "metadata": {
      "needs_background": "light"
     },
     "output_type": "display_data"
    }
   ],
   "source": [
    "def token_CN(string):\n",
    "    result=re.findall(\"[\\u4e00-\\u9fa5]+\",string)\n",
    "    return result\n",
    "\n",
    "string = articles[0]\n",
    "\n",
    "filename = r'F:\\eclipsewokspace\\MachineLearing\\NLP\\datasource\\train.txt'\n",
    "content = pd.read_csv(filename, sep='delimiter',header = None,encoding='utf-8')\n",
    "\n",
    "articless = content[0].tolist()\n",
    "articles = articless[:-1]\n",
    "articles_clean = [ ''.join( token_CN(str(a))) for a in articles]\n",
    "\n",
    "# 这样写我电脑带不动，可能需要很大的内存吧\n",
    "words_cuts = Counter(reduce(add, [cut(a) for a in articles_clean]))\n",
    "\n",
    "\n",
    "words_count = Counter(words_cuts)\n",
    "\n",
    "words_count.most_common(100)\n",
    "\n",
    "frequiences = [f for w, f in words_count.most_common(100)]\n",
    "x = range(0,100)\n",
    "plt.plot(x,frequiences)\n",
    "plt.show()\n"
   ]
  },
  {
   "cell_type": "markdown",
   "metadata": {},
   "source": [
    "> "
   ]
  },
  {
   "cell_type": "markdown",
   "metadata": {},
   "source": [
    "ans: 文本分布程度还好，大部分都是常见的词汇"
   ]
  },
  {
   "cell_type": "markdown",
   "metadata": {},
   "source": [
    "#### 3. 获得最优质的的语言"
   ]
  },
  {
   "cell_type": "markdown",
   "metadata": {},
   "source": [
    "当我们能够生成随机的语言并且能判断之后，我们就可以生成更加合理的语言了。请定义 generate_best 函数，该函数输入一个语法 + 语言模型，能够生成**n**个句子，并能选择一个最合理的句子: \n",
    "\n"
   ]
  },
  {
   "cell_type": "markdown",
   "metadata": {},
   "source": [
    "提示，要实现这个函数，你需要Python的sorted函数"
   ]
  },
  {
   "cell_type": "code",
   "execution_count": 13,
   "metadata": {},
   "outputs": [
    {
     "data": {
      "text/plain": [
       "[1, 2, 3, 5]"
      ]
     },
     "execution_count": 13,
     "metadata": {},
     "output_type": "execute_result"
    }
   ],
   "source": [
    "sorted([1, 3, 5, 2])"
   ]
  },
  {
   "cell_type": "markdown",
   "metadata": {},
   "source": [
    "这个函数接受一个参数key，这个参数接受一个函数作为输入，例如"
   ]
  },
  {
   "cell_type": "code",
   "execution_count": 15,
   "metadata": {},
   "outputs": [
    {
     "data": {
      "text/plain": [
       "[(1, 4), (2, 5), (4, 4), (5, 0)]"
      ]
     },
     "execution_count": 15,
     "metadata": {},
     "output_type": "execute_result"
    }
   ],
   "source": [
    "sorted([(2, 5), (1, 4), (5, 0), (4, 4)], key=lambda x: x[0])"
   ]
  },
  {
   "cell_type": "markdown",
   "metadata": {},
   "source": [
    "能够让list按照第0个元素进行排序."
   ]
  },
  {
   "cell_type": "code",
   "execution_count": 16,
   "metadata": {},
   "outputs": [
    {
     "data": {
      "text/plain": [
       "[(5, 0), (1, 4), (4, 4), (2, 5)]"
      ]
     },
     "execution_count": 16,
     "metadata": {},
     "output_type": "execute_result"
    }
   ],
   "source": [
    "sorted([(2, 5), (1, 4), (5, 0), (4, 4)], key=lambda x: x[1])"
   ]
  },
  {
   "cell_type": "markdown",
   "metadata": {},
   "source": [
    "能够让list按照第1个元素进行排序."
   ]
  },
  {
   "cell_type": "code",
   "execution_count": 398,
   "metadata": {},
   "outputs": [
    {
     "data": {
      "text/plain": [
       "[(2, 5), (1, 4), (4, 4), (5, 0)]"
      ]
     },
     "execution_count": 398,
     "metadata": {},
     "output_type": "execute_result"
    }
   ],
   "source": [
    "sorted([(2, 5), (1, 4), (5, 0), (4, 4)], key=lambda x: x[1], reverse=True)"
   ]
  },
  {
   "cell_type": "markdown",
   "metadata": {},
   "source": [
    "能够让list按照第1个元素进行排序, 但是是递减的顺序。"
   ]
  },
  {
   "cell_type": "markdown",
   "metadata": {},
   "source": [
    ">"
   ]
  },
  {
   "cell_type": "code",
   "execution_count": 411,
   "metadata": {},
   "outputs": [],
   "source": [
    "def generate_best(gram,target): # you code here\n",
    "    sentences_pro = []\n",
    "    sentences = generate_n(gram,target, 20)\n",
    "    for i ,sentence in enumerate(sentences):\n",
    "        print('生成第 %d 条句子：%s'%(i,str(sentence)))\n",
    "        sentences_pro.append([sentence,get_probablity(sentence)])\n",
    "    \n",
    "    sentences_pro_sorted = sorted(sentences_pro, key=lambda x: x[1], reverse=True)\n",
    "    bests_sentence,max_pro = sentences_pro_sorted[0]\n",
    "    print('生成最好的句子是：%s'%(bests_sentence))\n",
    "    return bests_sentence,sentences_pro_sorted"
   ]
  },
  {
   "cell_type": "code",
   "execution_count": 412,
   "metadata": {},
   "outputs": [
    {
     "name": "stdout",
     "output_type": "stream",
     "text": [
      "生成第 0 条句子：兄弟是一个男孩\n",
      "生成第 1 条句子：大叔毫无疑问是健壮的男人\n",
      "生成第 2 条句子：兄弟当然是男孩\n",
      "生成第 3 条句子：媳妇毫无疑问是贤惠的姑娘\n",
      "生成第 4 条句子：姑娘是一个优雅的小姑娘\n",
      "生成第 5 条句子：哥们确实是健壮的小伙子\n",
      "生成第 6 条句子：哥们毫无疑问是帅气的小伙子\n",
      "生成第 7 条句子：美女当然是贤淑的大美女\n",
      "生成第 8 条句子：姑娘确实是优雅的大美女\n",
      "生成第 9 条句子：哥们是一个俊俏的小伙子\n",
      "生成第 10 条句子：兄弟毫无疑问是男人\n",
      "生成第 11 条句子：兄弟必须是俊俏的男人\n",
      "生成第 12 条句子：兄弟确实是帅气的男人\n",
      "生成第 13 条句子：姑娘是一个温柔的女士\n",
      "生成第 14 条句子：哥们确实是帅气的小伙子\n",
      "生成第 15 条句子：阿姨当然是贤惠的大美女\n",
      "生成第 16 条句子：阿姨毫无疑问是优雅的美女\n",
      "生成第 17 条句子：大叔当然是俊俏的男孩\n",
      "生成第 18 条句子：美女是一个优雅的大美女\n",
      "生成第 19 条句子：哥们当然是健壮的小伙子\n",
      "生成最好的句子是：兄弟是一个男孩\n"
     ]
    }
   ],
   "source": [
    "bests_sentence,sentences_pro_sorted = generate_best(you_need_replace_this_with_name_you_given2,'sentence')"
   ]
  },
  {
   "cell_type": "markdown",
   "metadata": {},
   "source": [
    "好了，现在我们实现了自己的第一个AI模型，这个模型能够生成比较接近于人类的语言。"
   ]
  },
  {
   "cell_type": "markdown",
   "metadata": {},
   "source": [
    "Q: 这个模型有什么问题？ 你准备如何提升？ "
   ]
  },
  {
   "cell_type": "markdown",
   "metadata": {},
   "source": [
    "Ans: 这个n是有限的数字，每次运行产生的句子不一样，导致最好的句子也是不一样的"
   ]
  },
  {
   "cell_type": "markdown",
   "metadata": {},
   "source": [
    ">"
   ]
  },
  {
   "cell_type": "markdown",
   "metadata": {},
   "source": [
    "##### 以下内容为可选部分，对于绝大多数同学，能完成以上的项目已经很优秀了，下边的内容如果你还有精力可以试试，但不是必须的。"
   ]
  },
  {
   "cell_type": "markdown",
   "metadata": {},
   "source": [
    "#### 4. (Optional) 完成基于Pattern Match的语句问答\n",
    "> 我们的GitHub仓库中，有一个assignment-01-optional-pattern-match，这个难度较大，感兴趣的同学可以挑战一下。"
   ]
  },
  {
   "cell_type": "markdown",
   "metadata": {},
   "source": [
    "\n",
    "#### 5. (Optional) 完成阿兰图灵机器智能原始论文的阅读\n",
    "1. 请阅读阿兰图灵关于机器智能的原始论文：https://github.com/Computing-Intelligence/References/blob/master/AI%20%26%20Machine%20Learning/Computer%20Machinery%20and%20Intelligence.pdf \n",
    "2. 并按照GitHub仓库中的论文阅读模板，填写完毕后发送给我: mqgao@kaikeba.com 谢谢"
   ]
  },
  {
   "cell_type": "markdown",
   "metadata": {},
   "source": [
    "> "
   ]
  },
  {
   "cell_type": "markdown",
   "metadata": {},
   "source": [
    "各位同学，我们已经完成了自己的第一个AI模型，大家对人工智能可能已经有了一些感觉，人工智能的核心就是，我们如何设计一个模型、程序，在外部的输入变化的时候，我们的程序不变，依然能够解决问题。人工智能是一个很大的领域，目前大家所熟知的深度学习只是其中一小部分，之后也肯定会有更多的方法提出来，但是大家知道人工智能的目标，就知道了之后进步的方向。"
   ]
  },
  {
   "cell_type": "markdown",
   "metadata": {},
   "source": [
    "然后，希望大家对AI不要有恐惧感，这个并不难，大家加油！"
   ]
  },
  {
   "cell_type": "markdown",
   "metadata": {},
   "source": [
    ">"
   ]
  },
  {
   "cell_type": "markdown",
   "metadata": {},
   "source": [
    "![](https://timgsa.baidu.com/timg?image&quality=80&size=b9999_10000&sec=1561828422005&di=48d19c16afb6acc9180183a6116088ac&imgtype=0&src=http%3A%2F%2Fb-ssl.duitang.com%2Fuploads%2Fitem%2F201807%2F28%2F20180728150843_BECNF.thumb.224_0.jpeg)"
   ]
  }
 ],
 "metadata": {
  "kernelspec": {
   "display_name": "Python 3",
   "language": "python",
   "name": "python3"
  },
  "language_info": {
   "codemirror_mode": {
    "name": "ipython",
    "version": 3
   },
   "file_extension": ".py",
   "mimetype": "text/x-python",
   "name": "python",
   "nbconvert_exporter": "python",
   "pygments_lexer": "ipython3",
   "version": "3.6.0"
  }
 },
 "nbformat": 4,
 "nbformat_minor": 2
}
