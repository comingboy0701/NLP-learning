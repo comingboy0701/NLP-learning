{
 "cells": [
  {
   "cell_type": "markdown",
   "metadata": {},
   "source": [
    "## Lecture-03 Gradient Descent and Dymanic Programming"
   ]
  },
  {
   "cell_type": "markdown",
   "metadata": {},
   "source": [
    "In this week, we need complete following tasks:\n",
    "+ Re-review the course online programming; \n",
    "+ Choose 1 - 2 books which you interested and keep reading; \n",
    "+ Answer the review questions\n",
    "+ Prepare the basic requirement of our 1st project. "
   ]
  },
  {
   "cell_type": "markdown",
   "metadata": {},
   "source": [
    "### Part I Review the online programming. "
   ]
  },
  {
   "cell_type": "markdown",
   "metadata": {},
   "source": [
    "### Part 2: change loss function from $loss = \\frac{1}{n}\\sum{(y_i - \\hat(y_i))^2}$ to $loss = \\frac{1}{n}\\sum{|y_i - \\hat{y_i}|}$, and using your mathmatical knowledge to get the right partial formual. Implemen the gradient descent code."
   ]
  },
  {
   "cell_type": "markdown",
   "metadata": {},
   "source": [
    "## loss\n",
    "\n",
    "$$ loss = \\frac{1}{n} \\sum{|y_i - \\hat{y_i}|}$$"
   ]
  },
  {
   "cell_type": "markdown",
   "metadata": {},
   "source": [
    "$$ loss = \\frac{1}{n} \\sum \\sqrt{(y_i - (kx_i + b_i))^2} $$"
   ]
  },
  {
   "cell_type": "markdown",
   "metadata": {},
   "source": [
    "$$ \\frac{\\partial{loss}}{\\partial{k}} = \\frac{1}{n}\\sum\\frac{-xi(yi-(kxi+bi))}{|yi-(kxi+bi)|}$$\n",
    "\n",
    "$$ \\frac{\\partial{loss}}{\\partial{k}} = \\frac{1}{n}\\sum\\frac{-xi(yi-\\hat{y_i})}{|yi-\\hat{y_i}|}$$\n"
   ]
  },
  {
   "cell_type": "markdown",
   "metadata": {},
   "source": [
    "$$ \\frac{\\partial{loss}}{\\partial{b}} = \\frac{2}{n}\\sum\\frac{-(yi-\\hat{y_i})}{|yi-\\hat{y_i}|}$$"
   ]
  },
  {
   "cell_type": "code",
   "execution_count": 49,
   "metadata": {
    "scrolled": true
   },
   "outputs": [
    {
     "name": "stdout",
     "output_type": "stream",
     "text": [
      "When time is : 0, get best_k: 1.1402043846812537 best_b: 1.0582866708509109, and the loss is: 14.359249417676429\n",
      "When time is : 100, get best_k: 1.2007627668946823 best_b: 1.0486657222343123, and the loss is: 14.001782703514602\n",
      "When time is : 200, get best_k: 1.260973783890724 best_b: 1.0391048526690938, and the loss is: 13.648407364053087\n",
      "When time is : 300, get best_k: 1.3204346795429023 best_b: 1.0296748131433997, and the loss is: 13.30376333272522\n",
      "When time is : 400, get best_k: 1.378591706420371 best_b: 1.0204684890327291, and the loss is: 12.974045273232445\n",
      "When time is : 500, get best_k: 1.436142893376892 best_b: 1.0113692795465585, and the loss is: 12.651115973683009\n",
      "When time is : 600, get best_k: 1.493585394957923 best_b: 1.0022890423924027, and the loss is: 12.329408041040958\n",
      "When time is : 700, get best_k: 1.5506776004915166 best_b: 0.9932637459497146, and the loss is: 12.011608697282997\n",
      "When time is : 800, get best_k: 1.6075274159065314 best_b: 0.9842779751987266, and the loss is: 11.696514246992752\n",
      "When time is : 900, get best_k: 1.6637447123492228 best_b: 0.9753965522738252, and the loss is: 11.388376009435857\n",
      "When time is : 1000, get best_k: 1.7194328803334196 best_b: 0.9666020858706638, and the loss is: 11.086004264825366\n",
      "When time is : 1100, get best_k: 1.774493333297847 best_b: 0.9579135483212585, and the loss is: 10.790401179289487\n",
      "When time is : 1200, get best_k: 1.8288401609658353 best_b: 0.9493526787560421, and the loss is: 10.502388639233478\n",
      "When time is : 1300, get best_k: 1.882214577566626 best_b: 0.9409491214437908, and the loss is: 10.224587702526168\n",
      "When time is : 1400, get best_k: 1.9340733080014072 best_b: 0.9327898329062416, and the loss is: 9.962324458115267\n",
      "When time is : 1500, get best_k: 1.984734000886784 best_b: 0.9248214534596004, and the loss is: 9.712035477900645\n",
      "When time is : 1600, get best_k: 2.034663584681252 best_b: 0.9169748131433948, and the loss is: 9.468908428097224\n",
      "When time is : 1700, get best_k: 2.0835321937721574 best_b: 0.9093072242105873, and the loss is: 9.235985216155473\n",
      "When time is : 1800, get best_k: 2.1303839163018083 best_b: 0.9019791609694807, and the loss is: 9.021854704277498\n",
      "When time is : 1900, get best_k: 2.175463996143719 best_b: 0.8949447736177024, and the loss is: 8.82358462169248\n",
      "When time is : 2000, get best_k: 2.220165020254403 best_b: 0.8879704653173074, and the loss is: 8.628643764488931\n",
      "When time is : 2100, get best_k: 2.2633589775666523 best_b: 0.8812447736177046, and the loss is: 8.446609205914928\n",
      "When time is : 2200, get best_k: 2.3060269740093235 best_b: 0.87460366689834, and the loss is: 8.268973513078771\n",
      "When time is : 2300, get best_k: 2.3474955404124915 best_b: 0.8681617696651381, and the loss is: 8.101152754638207\n",
      "When time is : 2400, get best_k: 2.388129566104191 best_b: 0.8618617696651378, and the loss is: 7.940022902113988\n",
      "When time is : 2500, get best_k: 2.4274713609658676 best_b: 0.8557621649220587, and the loss is: 7.788975674296895\n",
      "When time is : 2600, get best_k: 2.466197198515277 best_b: 0.8497566313252217, and the loss is: 7.642613470313334\n",
      "When time is : 2700, get best_k: 2.504096713930299 best_b: 0.843883904052492, and the loss is: 7.50243149696496\n",
      "When time is : 2800, get best_k: 2.5412883356694262 best_b: 0.8381317301394465, and the loss is: 7.367431581093961\n",
      "When time is : 2900, get best_k: 2.577786249108169 best_b: 0.8324929949615836, and the loss is: 7.237412490409888\n",
      "When time is : 3000, get best_k: 2.6140697419935375 best_b: 0.8268918091908333, and the loss is: 7.108902892595312\n",
      "When time is : 3100, get best_k: 2.649625393772191 best_b: 0.8214171056335189, and the loss is: 6.985486453513759\n",
      "When time is : 3200, get best_k: 2.68383284199353 best_b: 0.8161767894279875, and the loss is: 6.8712286701347285\n",
      "When time is : 3300, get best_k: 2.7172577558275077 best_b: 0.8110799514833227, and the loss is: 6.762103377760839\n",
      "When time is : 3400, get best_k: 2.749527025392727 best_b: 0.8061811372540735, and the loss is: 6.660376298698698\n",
      "When time is : 3500, get best_k: 2.7811881194638777 best_b: 0.8013823230248251, and the loss is: 6.562448850342784\n",
      "When time is : 3600, get best_k: 2.8114736827049756 best_b: 0.7968151293489345, and the loss is: 6.472816216872572\n",
      "When time is : 3700, get best_k: 2.8409677676852003 best_b: 0.7923854850801594, and the loss is: 6.38778726703007\n",
      "When time is : 3800, get best_k: 2.8695902498986463 best_b: 0.7880981333015028, and the loss is: 6.307701264856178\n",
      "When time is : 3900, get best_k: 2.897680192191135 best_b: 0.7839001095860881, and the loss is: 6.230563860073287\n",
      "When time is : 4000, get best_k: 2.9255033993057764 best_b: 0.7797530740129631, and the loss is: 6.154871097847616\n",
      "When time is : 4100, get best_k: 2.9528904143255335 best_b: 0.7756791609694842, and the loss is: 6.08152773540958\n",
      "When time is : 4200, get best_k: 2.979576815511308 best_b: 0.7717198724319343, and the loss is: 6.011884121319932\n",
      "When time is : 4300, get best_k: 3.0053081147207887 best_b: 0.7679151293489312, and the loss is: 5.94713280345781\n",
      "When time is : 4400, get best_k: 3.0293610779619 best_b: 0.7643973427876666, and the loss is: 5.890506452445028\n",
      "When time is : 4500, get best_k: 3.051678109582448 best_b: 0.7611692795465608, and the loss is: 5.8417487393058725\n",
      "When time is : 4600, get best_k: 3.0725243226259296 best_b: 0.7581866708509105, and the loss is: 5.79916104396771\n",
      "When time is : 4700, get best_k: 3.0920364087919467 best_b: 0.755425801285695, and the loss is: 5.761847860473947\n",
      "When time is : 4800, get best_k: 3.1102200795429313 best_b: 0.7528886471354976, and the loss is: 5.729423542405191\n",
      "When time is : 4900, get best_k: 3.1275382080014333 best_b: 0.7504957617600034, and the loss is: 5.700006319990671\n",
      "When time is : 5000, get best_k: 3.1441451637326523 best_b: 0.7482178961473597, and the loss is: 5.672946898857744\n",
      "When time is : 5100, get best_k: 3.160537789819617 best_b: 0.7459795562264134, and the loss is: 5.646576155791412\n",
      "When time is : 5200, get best_k: 3.1758528301358284 best_b: 0.7439285680841227, and the loss is: 5.623543816423436\n",
      "When time is : 5300, get best_k: 3.189934649898661 best_b: 0.7420811372540835, and the loss is: 5.604053894476652\n",
      "When time is : 5400, get best_k: 3.203716003258326 best_b: 0.7402842993094195, and the loss is: 5.585384926710663\n",
      "When time is : 5500, get best_k: 3.2170139609658372 best_b: 0.7385688842896541, and the loss is: 5.567994067217668\n",
      "When time is : 5600, get best_k: 3.2298275645231684 best_b: 0.7369344969378775, and the loss is: 5.55184089472834\n",
      "When time is : 5700, get best_k: 3.2419520261832497 best_b: 0.735412757807441, and the loss is: 5.537371480979703\n",
      "When time is : 5800, get best_k: 3.2532431649184246 best_b: 0.7340277775702861, and the loss is: 5.524812362956993\n",
      "When time is : 5900, get best_k: 3.2639633605706075 best_b: 0.7327352874517085, and the loss is: 5.513489130175712\n",
      "When time is : 6000, get best_k: 3.273871667685228 best_b: 0.7315732321157381, and the loss is: 5.503798998779627\n",
      "When time is : 6100, get best_k: 3.283075017487609 best_b: 0.7305289633410337, and the loss is: 5.495430774744021\n",
      "When time is : 6200, get best_k: 3.291179115511329 best_b: 0.7296601886374756, and the loss is: 5.488919834609914\n",
      "When time is : 6300, get best_k: 3.2985085854717857 best_b: 0.728919872431939, and the loss is: 5.483601651833498\n",
      "When time is : 6400, get best_k: 3.3052226336931225 best_b: 0.7282827182817435, and the loss is: 5.479134949763286\n",
      "When time is : 6500, get best_k: 3.3117279210448993 best_b: 0.7276807419971587, and the loss is: 5.474938578548377\n",
      "When time is : 6600, get best_k: 3.3179516945626855 best_b: 0.7271250107718616, and the loss is: 5.4710908043186235\n",
      "When time is : 6700, get best_k: 3.3232960483176157 best_b: 0.7267107815228506, and the loss is: 5.468245712179511\n",
      "When time is : 6800, get best_k: 3.328072828159508 best_b: 0.726382323024826, and the loss is: 5.4659719040391845\n",
      "When time is : 6900, get best_k: 3.3320752435745202 best_b: 0.7261783704556563, and the loss is: 5.464364233426963\n",
      "When time is : 7000, get best_k: 3.3352164997010094 best_b: 0.7261198724319434, and the loss is: 5.463376728340991\n",
      "When time is : 7100, get best_k: 3.3382508277642655 best_b: 0.726080346740246, and the loss is: 5.46245616988948\n",
      "When time is : 7200, get best_k: 3.3412851558275216 best_b: 0.7260408210485486, and the loss is: 5.4615356114379665\n",
      "When time is : 7300, get best_k: 3.3443194838907777 best_b: 0.7260012953568512, and the loss is: 5.460615052986453\n",
      "When time is : 7400, get best_k: 3.347353811954034 best_b: 0.7259617696651538, and the loss is: 5.459694494534951\n",
      "When time is : 7500, get best_k: 3.3502098253927626 best_b: 0.7259522834991464, and the loss is: 5.458878508074572\n",
      "When time is : 7600, get best_k: 3.352800643574585 best_b: 0.7259878566216741, and the loss is: 5.458207042093658\n",
      "When time is : 7700, get best_k: 3.3552903012821007 best_b: 0.7260400305347147, and the loss is: 5.457586555618323\n",
      "When time is : 7800, get best_k: 3.3576143131398135 best_b: 0.7261190819181095, and the loss is: 5.457047077418963\n",
      "When time is : 7900, get best_k: 3.3599383249975263 best_b: 0.7261981333015043, and the loss is: 5.456507599219607\n",
      "When time is : 8000, get best_k: 3.362262336855239 best_b: 0.7262771846848991, and the loss is: 5.455968121020254\n",
      "When time is : 8100, get best_k: 3.364586348712952 best_b: 0.7263562360682939, and the loss is: 5.455428642820896\n",
      "When time is : 8200, get best_k: 3.366774989029172 best_b: 0.7264582123528797, and the loss is: 5.454949519880763\n",
      "When time is : 8300, get best_k: 3.368865601677414 best_b: 0.726576789427983, and the loss is: 5.454513859808546\n",
      "When time is : 8400, get best_k: 3.3708170404126134 best_b: 0.7267171056335199, and the loss is: 5.454133987372459\n",
      "When time is : 8500, get best_k: 3.3726546095825958 best_b: 0.7268752084003206, and the loss is: 5.453798820975506\n",
      "When time is : 8600, get best_k: 3.374271032507507 best_b: 0.7270700700603999, and the loss is: 5.453537582578282\n",
      "When time is : 8700, get best_k: 3.3754653103731256 best_b: 0.7273352874517006, and the loss is: 5.453400848557495\n",
      "When time is : 8800, get best_k: 3.376590389424515 best_b: 0.7276119672935936, and the loss is: 5.4532819234438\n",
      "When time is : 8900, get best_k: 3.3776023815193854 best_b: 0.7279064336967553, and the loss is: 5.453186894950653\n",
      "When time is : 9000, get best_k: 3.3784761562229546 best_b: 0.7282226392303568, and the loss is: 5.453120545321342\n",
      "When time is : 9100, get best_k: 3.379349930926524 best_b: 0.7285388447639582, and the loss is: 5.453054195692036\n",
      "When time is : 9200, get best_k: 3.380209974404795 best_b: 0.7288574218390615, and the loss is: 5.452990200589623\n",
      "When time is : 9300, get best_k: 3.3808548953533952 best_b: 0.7292131530643604, and the loss is: 5.452961262757095\n",
      "When time is : 9400, get best_k: 3.3814998163019956 best_b: 0.7295688842896593, and the loss is: 5.452932324924564\n",
      "When time is : 9500, get best_k: 3.382144737250596 best_b: 0.7299246155149581, and the loss is: 5.452903387092033\n",
      "When time is : 9600, get best_k: 3.3827896581991963 best_b: 0.730280346740257, and the loss is: 5.452874449259513\n",
      "When time is : 9700, get best_k: 3.3834345791477967 best_b: 0.7306360779655559, and the loss is: 5.452845511426981\n",
      "When time is : 9800, get best_k: 3.384079500096397 best_b: 0.7309918091908547, and the loss is: 5.452816573594451\n",
      "When time is : 9900, get best_k: 3.38455502064974 best_b: 0.7313763941710927, and the loss is: 5.452807883294514\n"
     ]
    },
    {
     "data": {
      "text/plain": [
       "<matplotlib.collections.PathCollection at 0x14cc0ef0>"
      ]
     },
     "execution_count": 49,
     "metadata": {},
     "output_type": "execute_result"
    },
    {
     "data": {
      "image/png": "[encoded data removed]",
      "text/plain": [
       "<Figure size 432x288 with 1 Axes>"
      ]
     },
     "metadata": {
      "needs_background": "light"
     },
     "output_type": "display_data"
    }
   ],
   "source": [
    "from sklearn.datasets import load_boston\n",
    "import matplotlib.pyplot as plt\n",
    "import random\n",
    "\n",
    "data = load_boston()\n",
    "X, y = data['data'], data['target']\n",
    "X_rm = X[:, 5]\n",
    "\n",
    "def price(rm, k, b):\n",
    "    \"\"\"f(x) = k * x + b\"\"\"\n",
    "    return k * rm + b\n",
    "\n",
    "\n",
    "def loss(y, y_hat):  # to evaluate the performance\n",
    "    return sum(abs(y_i - y_hat_i)for y_i,\n",
    "               y_hat_i in zip(list(y), list(y_hat))) / len(list(y))\n",
    "\n",
    "\n",
    "def partial_k(x, y, y_hat): \n",
    "    n = len(y)\n",
    "    gradient = 0\n",
    "    for x_i, y_i, y_hat_i in zip(list(x), list(y), list(y_hat)):\n",
    "        gradient += (-x_i)*(y_i - y_hat_i) /(abs(y_i - y_hat_i))\n",
    "    return 1 / n * gradient\n",
    "\n",
    "\n",
    "def partial_b(x, y, y_hat):\n",
    "    n = len(y)\n",
    "    gradient = 0\n",
    "    for y_i, y_hat_i in zip(list(y), list(y_hat)):\n",
    "        gradient += (y_i - y_hat_i) /(abs(y_i - y_hat_i))\n",
    "    return 1 / n * gradient\n",
    "\n",
    "\n",
    "trying_times = 20000\n",
    "X, y = data['data'], data['target']\n",
    "min_loss = float('inf')\n",
    "current_k = random.random() * 200 - 100\n",
    "current_b = random.random() * 200 - 100\n",
    "learning_rate = 1e-04\n",
    "update_time = 0\n",
    "for i in range(trying_times):\n",
    "    price_by_k_and_b = [price(r, current_k, current_b) for r in X_rm]\n",
    "    current_loss = loss(y, price_by_k_and_b)\n",
    "    if current_loss < min_loss:  # performance became better\n",
    "        min_loss = current_loss\n",
    "        if i % 100 == 0:\n",
    "            print(\n",
    "                'When time is : {}, get best_k: {} best_b: {}, and the loss is: {}'.format(\n",
    "                    i,\n",
    "                    current_k,\n",
    "                    current_b,\n",
    "                    min_loss))\n",
    "    k_gradient = partial_k(X_rm, y, price_by_k_and_b)\n",
    "    b_gradient = partial_b(X_rm, y, price_by_k_and_b)\n",
    "    current_k = current_k + (-1 * k_gradient) * learning_rate\n",
    "    current_b = current_b + (-1 * b_gradient) * learning_rate\n",
    "    \n",
    "price_by_random_k_and_b = [price(r, current_k, current_b) for r in X_rm]\n",
    "plt.scatter(X_rm, y)\n",
    "plt.scatter(X_rm, price_by_random_k_and_b)\n",
    "plt.scatter(X_rm, price_by_random_k_and_b)"
   ]
  },
  {
   "cell_type": "markdown",
   "metadata": {},
   "source": [
    "### Part 3: Finish the Solution Parse Part of Edit-Distance"
   ]
  },
  {
   "cell_type": "markdown",
   "metadata": {},
   "source": [
    "### Part 4 Choose 1 - 2 books to keep reading: \n",
    "\n",
    "+ SICP, Structure and Interpretation of Computer Programming. \n",
    "+ Introduction to Algorithms \n",
    "+ Artificial Intelligence A Modern Approach (3rd Edition) \n",
    "+ Code Complete 2 \n",
    "+ Programming Pearls \n",
    "+ Deep Learning\n",
    "+ 黑客与画家\n",
    "+ 数学之美\n",
    "+ Fluent Python\n",
    "+ Hands on Tensorflow\n",
    "+ Conference: NIPS_ ICML_ ICLR_ ACL_ AAAI\n",
    "\n",
    "> most books you may find in our github: https://github.com/Computing-Intelligence/References"
   ]
  },
  {
   "cell_type": "markdown",
   "metadata": {},
   "source": [
    "## Part 5-1: review machine learning"
   ]
  },
  {
   "cell_type": "markdown",
   "metadata": {},
   "source": [
    "1. Why do we use Derivative / Gredient to fit a target function?¶"
   ]
  },
  {
   "cell_type": "markdown",
   "metadata": {},
   "source": [
    "#### Ans: 保证拟合函数的方向是正确的（损失值一定比上次拟合的小）"
   ]
  },
  {
   "cell_type": "markdown",
   "metadata": {},
   "source": [
    "2. In the words 'Gredient Descent', what's the Gredient and what's the Descent?¶"
   ]
  },
  {
   "cell_type": "markdown",
   "metadata": {},
   "source": [
    "####  Ans: 导数：损失函数的变化方向；下降：沿着损失函数变小的方向持续拟合\n"
   ]
  },
  {
   "cell_type": "markdown",
   "metadata": {},
   "source": [
    "\n",
    "3. What's the advantages of the 3rd gradient descent method compared to the previous methods?"
   ]
  },
  {
   "cell_type": "markdown",
   "metadata": {},
   "source": [
    "#### Ans: 更快的得到最小损失，即相同的拟合次数，得到的拟合函数更好"
   ]
  },
  {
   "cell_type": "markdown",
   "metadata": {},
   "source": [
    "4. Using the simple words to describe: What's the machine leanring.¶"
   ]
  },
  {
   "cell_type": "markdown",
   "metadata": {},
   "source": [
    "#### Ans: 基于观测的值，进行归纳"
   ]
  },
  {
   "cell_type": "markdown",
   "metadata": {},
   "source": [
    "### Part 5: Answer following questions: "
   ]
  },
  {
   "cell_type": "markdown",
   "metadata": {},
   "source": [
    "1. Why do we need dynamic programming? What's the difference of dynamic programming and previous talked `search` problme? "
   ]
  },
  {
   "cell_type": "markdown",
   "metadata": {},
   "source": [
    "#### ans： \n",
    "\n",
    "每个阶段只有一个状态->递推；\n",
    "\n",
    "每个阶段的最优状态都是由上一个阶段的最优状态得到的->贪心；\n",
    "\n",
    "***每个阶段的最优状态是由之前所有阶段的状态的组合得到的->搜索；***\n",
    "\n",
    "***每个阶段的最优状态可以从之前某个阶段的某个或某些状态直接得到而不管之前这个状态是如何得到的->动态规划***\n"
   ]
  },
  {
   "cell_type": "markdown",
   "metadata": {},
   "source": [
    "2. Why do we still need dynamic programming? Why not we train a machine learning to fit a function which could get the `right` answer based on inputs?"
   ]
  },
  {
   "cell_type": "markdown",
   "metadata": {},
   "source": [
    "#### ans : 机械学习不是万能的，在一定程度，动态规划比机械学习更简单"
   ]
  },
  {
   "cell_type": "markdown",
   "metadata": {},
   "source": [
    "3. Can you catch up at least 3 problems which could solved by Dynamic Programming? "
   ]
  },
  {
   "cell_type": "markdown",
   "metadata": {},
   "source": [
    "#### ans: 网络，路线，迷宫"
   ]
  },
  {
   "cell_type": "markdown",
   "metadata": {},
   "source": [
    "4. Can you catch up at least 3 problems which could sloved by Edit Distance? "
   ]
  },
  {
   "cell_type": "markdown",
   "metadata": {},
   "source": [
    "#### ans：文本相似, 旅行路线最短和最划算，电线的铺设"
   ]
  },
  {
   "cell_type": "markdown",
   "metadata": {},
   "source": [
    "5. Please summarize the three main features of Dynamic Programming, and make a concise explain for each feature. "
   ]
  },
  {
   "cell_type": "markdown",
   "metadata": {},
   "source": [
    "#### ans: \n",
    "\n",
    "缓存: 对已经计算的结果进行保存\n",
    "\n",
    "重叠子问题: 最终结果是由前一个结果得到的，只要计算前一个结果是如何得到的\n",
    "\n",
    "记忆化:对于子问题的结果判断是否已经计算，如果在缓存计算了，直接查表就好，没有就例外计算\n"
   ]
  },
  {
   "cell_type": "markdown",
   "metadata": {},
   "source": [
    "6. What's the disadvantages of Dynamic Programming? (You may need search by yourself in Internet)"
   ]
  },
  {
   "cell_type": "markdown",
   "metadata": {},
   "source": [
    "#### ans :\n",
    "\n",
    "本身却只蕴含了一个和暴力枚举差不多的基本算法；\n",
    "\n",
    "尤其在决策空间维度很大时，动态规划算法会遭受著名的维数诅咒；\n",
    "\n",
    "即算法求解时间随着问题规模指数级增长。"
   ]
  },
  {
   "cell_type": "markdown",
   "metadata": {},
   "source": [
    "## Part 6 Preparation of Project-01"
   ]
  },
  {
   "cell_type": "markdown",
   "metadata": {},
   "source": [
    "1. Using python Flask or Bottle to finish your first simple web app:\n",
    "> https://bottlepy.org/\n",
    "\n",
    "2. Learn what's the SQL, and try some simple SQL operations:\n",
    "> https://www.w3schools.com/sql/sql_intro.asp\n",
    "\n",
    "3. Learn what's the HTML ( *ONLY* need to know the basic things)\n",
    "> https://getbootstrap.com/; https://www.w3schools.com/html/"
   ]
  },
  {
   "cell_type": "markdown",
   "metadata": {},
   "source": [
    "### (Optinal) Finish the k-person-salesman problem:"
   ]
  },
  {
   "cell_type": "code",
   "execution_count": 7,
   "metadata": {},
   "outputs": [],
   "source": [
    "import random\n",
    "import matplotlib.pylab as plt"
   ]
  },
  {
   "cell_type": "code",
   "execution_count": 8,
   "metadata": {},
   "outputs": [],
   "source": [
    "latitudes = [random.randint(-100, 100) for _ in range(20)]\n",
    "longitude = [random.randint(-100, 100) for _ in range(20)]"
   ]
  },
  {
   "cell_type": "code",
   "execution_count": 9,
   "metadata": {},
   "outputs": [
    {
     "data": {
      "text/plain": [
       "<matplotlib.collections.PathCollection at 0x11da1c588>"
      ]
     },
     "execution_count": 9,
     "metadata": {},
     "output_type": "execute_result"
    },
    {
     "data": {
      "image/png": "[encoded data removed]",
      "text/plain": [
       "<Figure size 432x288 with 1 Axes>"
      ]
     },
     "metadata": {
      "needs_background": "light"
     },
     "output_type": "display_data"
    }
   ],
   "source": [
    "plt.scatter(latitudes, longitude)"
   ]
  },
  {
   "cell_type": "markdown",
   "metadata": {},
   "source": [
    "给定一个初始点 𝑃, 已经 𝑘个车辆，如何从该点出发，经这 k 个车辆经过所以的点全部一次，而且所走过的路程最短?\n",
    "\n",
    "例如："
   ]
  },
  {
   "cell_type": "code",
   "execution_count": 14,
   "metadata": {},
   "outputs": [],
   "source": [
    "chosen_p = (-50, 10)\n",
    "chosen_p2 = (1, 30)\n",
    "chosen_p3 = (99, 15)"
   ]
  },
  {
   "cell_type": "code",
   "execution_count": 4,
   "metadata": {},
   "outputs": [],
   "source": [
    "import matplotlib.pyplot as plt"
   ]
  },
  {
   "cell_type": "code",
   "execution_count": 15,
   "metadata": {
    "scrolled": true
   },
   "outputs": [
    {
     "data": {
      "text/plain": [
       "<matplotlib.collections.PathCollection at 0x11dbbd470>"
      ]
     },
     "execution_count": 15,
     "metadata": {},
     "output_type": "execute_result"
    },
    {
     "data": {
      "image/png": "[encoded data removed]",
      "text/plain": [
       "<Figure size 432x288 with 1 Axes>"
      ]
     },
     "metadata": {
      "needs_background": "light"
     },
     "output_type": "display_data"
    }
   ],
   "source": [
    "plt.scatter(latitudes, longitude)\n",
    "plt.scatter([chosen_p[0]], [chosen_p[1]], color='r')\n",
    "plt.scatter([chosen_p2[0]], [chosen_p2[1]], color='r')\n",
    "plt.scatter([chosen_p3[0]], [chosen_p3[1]], color='r')"
   ]
  },
  {
   "cell_type": "markdown",
   "metadata": {},
   "source": [
    "shuro"
   ]
  }
 ],
 "metadata": {
  "kernelspec": {
   "display_name": "Python 3",
   "language": "python",
   "name": "python3"
  },
  "language_info": {
   "codemirror_mode": {
    "name": "ipython",
    "version": 3
   },
   "file_extension": ".py",
   "mimetype": "text/x-python",
   "name": "python",
   "nbconvert_exporter": "python",
   "pygments_lexer": "ipython3",
   "version": "3.6.0"
  }
 },
 "nbformat": 4,
 "nbformat_minor": 2
}
