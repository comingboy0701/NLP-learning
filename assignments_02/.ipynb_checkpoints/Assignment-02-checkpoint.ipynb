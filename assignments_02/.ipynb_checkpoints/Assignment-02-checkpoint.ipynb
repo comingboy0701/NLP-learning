{
 "cells": [
  {
   "cell_type": "markdown",
   "metadata": {},
   "source": [
    "## Assignments for Week-02"
   ]
  },
  {
   "cell_type": "markdown",
   "metadata": {},
   "source": [
    "In this course, we learnt what's the search problem and what's the machine leanring. In this assignment, we need you do some more practice."
   ]
  },
  {
   "cell_type": "markdown",
   "metadata": {},
   "source": [
    "### 1. Re-code the house price machine learning\n",
    "\n",
    "###### 1. Random Choose Method to get optimal *k* and *b*\n",
    "###### 2.Supervised Direction to get optimal *k* and *b*\n",
    "###### 3.Gradient Descent to get optimal *k* and *b*\n",
    "###### 4. Try different Loss function and learning rate. \n",
    "\n",
    "For example, you can change the loss function: $Loss = \\frac{1}{n} sum({y_i - \\hat{y_i}})^2$ to $Loss = \\frac{1}{n} sum(|{y_i - \\hat{y_i}}|)$\n",
    "\n",
    "And you can change the learning rate and observe the performance."
   ]
  },
  {
   "cell_type": "code",
   "execution_count": 3,
   "metadata": {},
   "outputs": [
    {
     "data": {
      "text/plain": [
       "<matplotlib.collections.PathCollection at 0x1b92c8eb048>"
      ]
     },
     "execution_count": 3,
     "metadata": {},
     "output_type": "execute_result"
    },
    {
     "data": {
      "image/png": "[encoded data removed]",
      "text/plain": [
       "<Figure size 432x288 with 1 Axes>"
      ]
     },
     "metadata": {
      "needs_background": "light"
     },
     "output_type": "display_data"
    }
   ],
   "source": [
    "from sklearn.datasets import load_boston\n",
    "import matplotlib.pyplot as plt\n",
    "import random\n",
    "data = load_boston()\n",
    "X,y = data['data'], data['target']\n",
    "X_rm = X[:,5]\n",
    "\n",
    "def price(rm,k,b):\n",
    "    return k*rm+b\n",
    "def loss(y,y_hat):\n",
    "    return sum((y_i-y_hat_i)**2 for y_i,y_hat_i in zip(list(y),list(y_hat)))/len(list(y))\n",
    "\n",
    "try_times = 2000\n",
    "min_loss= float('inf')\n",
    "best_k, best_b = None,None\n",
    "for i in range(try_times):\n",
    "    k = random.random()*200-100\n",
    "    b = random.random()*200-100\n",
    "    price_by_random_k_and_b = [price(r,k,b) for r in X_rm]\n",
    "    current_loss = loss(y, price_by_random_k_and_b)\n",
    "    if current_loss < min_loss:\n",
    "        min_loss = current_loss\n",
    "        best_k, best_b = k, b\n",
    "#         print('When time is : {}, get best_k: {} best_b: {}, and the loss is: {}'.format(i, best_k, best_b, min_loss))\n",
    "price_by_random_k_and_b = [price(r,best_k,best_b) for r in X_rm]\n",
    "plt.scatter(X_rm,y)\n",
    "plt.scatter(X_rm,price_by_random_k_and_b)"
   ]
  },
  {
   "cell_type": "code",
   "execution_count": 4,
   "metadata": {},
   "outputs": [
    {
     "data": {
      "text/plain": [
       "<matplotlib.collections.PathCollection at 0x1b92c8fce10>"
      ]
     },
     "execution_count": 4,
     "metadata": {},
     "output_type": "execute_result"
    },
    {
     "data": {
      "image/png": "[encoded data removed]",
      "text/plain": [
       "<Figure size 432x288 with 1 Axes>"
      ]
     },
     "metadata": {
      "needs_background": "light"
     },
     "output_type": "display_data"
    }
   ],
   "source": [
    "\n",
    "try_times = 2000\n",
    "min_loss =float('inf')\n",
    "best_k = random.random() * 200 - 100\n",
    "best_b = random.random() * 200 - 100\n",
    "direction = [(1,1),\n",
    "             (1,-1),\n",
    "             (-1,1),\n",
    "             (-1,-1)]\n",
    "next_direction = random.choice(direction)\n",
    "scalar = 0.1\n",
    "for i in range(try_times):\n",
    "    k_direction,b_direction = next_direction\n",
    "    current_k,current_b = best_k+scalar*k_direction,best_b+ scalar*b_direction\n",
    "    price_by_k_and_b = [price(r,current_k,current_b) for r in X_rm]\n",
    "    current_loss = loss(y,price_by_k_and_b)\n",
    "    if current_loss<min_loss:\n",
    "        min_loss = current_loss\n",
    "        best_k,best_b = current_k,current_b\n",
    "        next_direction = next_direction\n",
    "#         print('When time is : {}, get best_k: {} best_b: {}, and the loss is: {}'.format(i, best_k, best_b, min_loss))\n",
    "    else:\n",
    "        next_direction = random.choice(direction)\n",
    "plt.figure(2)\n",
    "price_by_k_and_b = [price(r,best_k,best_b) for r in X_rm]\n",
    "plt.scatter(X_rm,y)\n",
    "plt.scatter(X_rm,price_by_k_and_b)\n",
    "    "
   ]
  },
  {
   "cell_type": "markdown",
   "metadata": {},
   "source": [
    "## 2. Answer following questions:\n",
    "\n",
    "\n",
    "###### 1. Why do we need machine learning methods instead of creating a complicated formula?\n"
   ]
  },
  {
   "cell_type": "markdown",
   "metadata": {},
   "source": [
    "Ans:"
   ]
  },
  {
   "cell_type": "markdown",
   "metadata": {},
   "source": [
    "###### 2.  Wha't's the disadvantages of `the 1st Random Choosen` methods in our course? "
   ]
  },
  {
   "cell_type": "markdown",
   "metadata": {},
   "source": [
    "Ans:"
   ]
  },
  {
   "cell_type": "markdown",
   "metadata": {},
   "source": [
    "###### 3. Is the `2nd method supervised direction` better than 1st one?  What's the disadvantages of `the 2nd supversied directin` method? "
   ]
  },
  {
   "cell_type": "markdown",
   "metadata": {},
   "source": [
    "Ans:"
   ]
  },
  {
   "cell_type": "markdown",
   "metadata": {},
   "source": [
    "###### 4. Why do we use `Derivative / Gredient` to fit a target function? "
   ]
  },
  {
   "cell_type": "markdown",
   "metadata": {},
   "source": [
    "Ans:"
   ]
  },
  {
   "cell_type": "markdown",
   "metadata": {},
   "source": [
    "###### 5. In the words 'Gredient Descent', what's the `Gredient` and what's the `Descent`?"
   ]
  },
  {
   "cell_type": "markdown",
   "metadata": {},
   "source": [
    "Ans:"
   ]
  },
  {
   "cell_type": "markdown",
   "metadata": {},
   "source": [
    "###### 6. What's the advantages of `the 3rd gradient descent method` compared to the previous methods?"
   ]
  },
  {
   "cell_type": "markdown",
   "metadata": {},
   "source": [
    "Ans:"
   ]
  },
  {
   "cell_type": "markdown",
   "metadata": {},
   "source": [
    "###### 7. Using the simple words to describe: What's the machine leanring."
   ]
  },
  {
   "cell_type": "markdown",
   "metadata": {},
   "source": [
    "Ans:"
   ]
  },
  {
   "cell_type": "markdown",
   "metadata": {},
   "source": [
    "## 3. Finish the search problem"
   ]
  },
  {
   "cell_type": "markdown",
   "metadata": {},
   "source": [
    "Please using the search policy to implement an agent. This agent receives two input, one is @param start station and the other is @param destination. Your agent should give the optimal route based on Beijing Subway system. "
   ]
  },
  {
   "cell_type": "markdown",
   "metadata": {},
   "source": [
    "> Deadline: 2019-July-13\n",
    "\n",
    ">Submit: Submit the source code and result to github. \n",
    "\n"
   ]
  },
  {
   "cell_type": "markdown",
   "metadata": {},
   "source": [
    "![](https://timgsa.baidu.com/timg?image&quality=80&size=b9999_10000&sec=1562414356407&di=b57814aafd215bb8b8d9d8cd37c573d6&imgtype=0&src=http%3A%2F%2Fcli.clewm.net%2Ffile%2F2015%2F03%2F24%2F174ed60082b8422ac0636cfd3efb9e7f.jpg)"
   ]
  },
  {
   "cell_type": "markdown",
   "metadata": {},
   "source": [
    "#### Dataflow: "
   ]
  },
  {
   "cell_type": "markdown",
   "metadata": {},
   "source": [
    "##### 1.\tGet data from web page.\n",
    "\n",
    "> a.\tGet web page source from: https://baike.baidu.com/item/%E5%8C%97%E4%BA%AC%E5%9C%B0%E9%93%81/408485\n",
    "\n",
    "> b.\tYou may need @package **requests**[https://2.python-requests.org/en/master/] page to get the response via url\n",
    "\n",
    "> c.\tYou may need save the page source to file system.\n",
    "\n",
    "> d.\tThe target of this step is to get station information of all the subway lines;\n",
    "\n",
    "> e.\tYou may need install @package beautiful soup[https://www.crummy.com/software/BeautifulSoup/bs4/doc/]  to get the url information, or just use > Regular Expression to get the url.  Our recommendation is that using the Regular Expression and BeautiflSoup both. \n",
    "\n",
    "> f.\tYou may need BFS to get all the related page url from one url. \n",
    "Question: Why do we use BFS to traverse web page (or someone said, build a web spider)?  Can DFS do this job? which is better? "
   ]
  },
  {
   "cell_type": "markdown",
   "metadata": {},
   "source": [
    "### ans: 广度优先是为了获取所有地铁线路的 url，并不是地铁线路的 url 只会在一个网页里出现，广度优先和深度优先这两种方法都可以实现，因为获取地铁的时候做了去重，感觉这两种方式是差不多的，只是某个地铁线路先爬取还是后爬取的"
   ]
  },
  {
   "cell_type": "markdown",
   "metadata": {},
   "source": [
    "##### 2.\tPreprocessing data from page source.\n",
    "\n",
    "> a.\tBased on the page source gotten from url. You may need some more preprocessing of the page. \n",
    "\n",
    "> b.\tthe Regular Expression you may need to process the text information.\n",
    "\n",
    "> c.\tYou may need @package networkx, @package matplotlib to visualize data. \n",
    "\n",
    "> d.\tYou should build a dictionary or graph which could represent the connection information of Beijing subway routes. \n",
    "\n",
    "> e.\tYou may need the defaultdict, set data structures to implement this procedure. "
   ]
  },
  {
   "cell_type": "code",
   "execution_count": 63,
   "metadata": {
    "scrolled": false
   },
   "outputs": [
    {
     "data": {
      "image/png": "[encoded data removed]",
      "text/plain": [
       "<Figure size 432x288 with 1 Axes>"
      ]
     },
     "metadata": {},
     "output_type": "display_data"
    }
   ],
   "source": [
    "from collections import defaultdict\n",
    "import networkx as nx\n",
    "import matplotlib.pyplot as plt\n",
    "import math\n",
    "plt.rcParams['font.sans-serif'] = ['SimHei']\n",
    "plt.rcParams['axes.unicode_minus'] = False\n",
    "\n",
    "\n",
    "with open('station_2.csv','r') as f:\n",
    "    location_cn = f.readlines()\n",
    "    sub_stations = {}\n",
    "    for sub in location_cn:\n",
    "        sub_station = sub.strip().split(',')\n",
    "        sub_stations[sub_station[0]] = sub_station[1:-1]\n",
    "\n",
    "station_connection = defaultdict(list)    \n",
    "\n",
    "for key,value in sub_stations.items():\n",
    "    station_connection[value[0]].append(value[1].strip())\n",
    "    station_connection[value[-1]].append(value[-2].strip())\n",
    "    for index,station in enumerate(value[1:-1]):\n",
    "        last_station = value[index].strip()\n",
    "        station_connection[station].append(last_station)     \n",
    "        next_station = value[index+2].strip()\n",
    "        station_connection[station].append(next_station)\n",
    "\n",
    "for key, value in station_connection.items():\n",
    "    station_connection[key] = list(set(value))\n",
    "\n",
    "        \n",
    "with open('station_lati_1.csv','r') as f:\n",
    "    stations_read = f.readlines()\n",
    "    stations_location = {}\n",
    "    for stations in stations_read:\n",
    "        station = stations.strip().split(':')\n",
    "        station_cn = station[0].split()[1]\n",
    "        lati = tuple(map(float, station[1].split(',')))\n",
    "        stations_location[station_cn] = lati\n",
    "#         print(station_cn,lati)\n",
    "\n",
    "cities = list(stations_location.keys())\n",
    "city_graph = nx.Graph()\n",
    "city_graph.add_nodes_from(cities)\n",
    "plt.figure(1)\n",
    "\n",
    "stations_new = {}\n",
    "for key, value in station_connection.items():\n",
    "    stations_new[key] = stations_location[key]\n",
    "cities = list(stations_new.keys())\n",
    "city_graph = nx.Graph()\n",
    "city_graph.add_nodes_from(cities)   \n",
    "nx.draw(city_graph, stations_new, with_labels=False, node_size=10)\n",
    "\n",
    "station_connection_graph = nx.Graph(station_connection)\n",
    "\n",
    "# plt.figure(2) # 我从高德地图获取的经纬度是不对的，所以我没画连接图\n",
    "# nx.draw(station_connection_graph, stations_location, with_labels=True, node_size=10)\n"
   ]
  },
  {
   "cell_type": "code",
   "execution_count": 64,
   "metadata": {},
   "outputs": [
    {
     "name": "stdout",
     "output_type": "stream",
     "text": [
      "天安门西站->天安门东站->王府井站->金鱼胡同站->中国美术馆站->南锣鼓巷站->什刹海站->鼓楼大街站->安德里北街站->安华桥站->北土城站->奥体中心站\n",
      "None\n"
     ]
    }
   ],
   "source": [
    "def search (station1,station2,connnection_grpah):\n",
    "    pathes = [[station1]]\n",
    "    vistied = set()\n",
    "    while pathes:\n",
    "        path = pathes.pop(0)\n",
    "        froninter = path[-1]\n",
    "        if froninter in vistied: continue\n",
    "        successors = connnection_grpah[froninter]\n",
    "        for station in successors:\n",
    "            if station in path:continue\n",
    "            new_path = path + [station]\n",
    "            pathes.append(new_path)\n",
    "            if station == station2: return new_path\n",
    "        vistied.add(froninter)       \n",
    "def pretty_print(stations):\n",
    "    print('->'.join(stations))\n",
    "    \n",
    "station1 = '天安门西站'\n",
    "station2 = '奥体中心站'\n",
    "stations = search(station1,station2,station_connection)\n",
    "print(pretty_print(stations))"
   ]
  },
  {
   "cell_type": "markdown",
   "metadata": {},
   "source": [
    "##### 3. Build the search agent\n",
    "\n",
    "> Build the search agent based on the graph we build.\n",
    "\n",
    "for example, when you run: \n",
    "\n",
    "```python\n",
    ">>> search('奥体中心', '天安门') \n",
    "```\n",
    "you need get the result: \n",
    "\n",
    "奥体中心-> A -> B -> C -> ... -> 天安门\n",
    "\n"
   ]
  },
  {
   "cell_type": "markdown",
   "metadata": {},
   "source": [
    "## （Optional）Create different policies for transfer system.\n"
   ]
  },
  {
   "cell_type": "markdown",
   "metadata": {},
   "source": [
    "以下部门为可选部分，请酌情完成。 并不要求全部同学完成。"
   ]
  },
  {
   "cell_type": "markdown",
   "metadata": {},
   "source": [
    "As much as you can to use the already implemented search agent. You just need to define the **is_goal()**, **get_successor()**, **strategy()** three functions. \n",
    "\n",
    "> a.\tDefine different policies for transfer system. \n",
    "\n",
    "> b.\tSuch as Shortest Path Priority（路程最短优先）, Minimum Transfer Priority(最少换乘优先), Comprehensive Priority(综合优先)\n",
    "\n",
    "> c.\tImplement Continuous transfer. Based on the Agent you implemented, please add this feature: Besides the @param start and @param destination two stations, add some more stations, we called @param by_way, it means, our path should from the start and end, but also include the  @param by_way stations. \n",
    "\n",
    "e.g \n",
    "```\n",
    "1. Input:  start=A,  destination=B, by_way=[C] \n",
    "    Output: [A, … .., C, …. B]\n",
    "2. Input: start=A, destination=B, by_way=[C, D, E]\n",
    "    Output: [A … C … E … D … B]  \n",
    "    # based on your policy, the E station could be reached firstly. \n",
    "![image.png](attachment:image.png)\n",
    "```"
   ]
  },
  {
   "cell_type": "code",
   "execution_count": 65,
   "metadata": {},
   "outputs": [
    {
     "name": "stdout",
     "output_type": "stream",
     "text": [
      "天安门西站>>天安门东站>>王府井站>>金鱼胡同站>>中国美术馆站>>南锣鼓巷站>>什刹海站>>鼓楼大街站>>安德里北街站>>安华桥站>>北土城站>>奥体中心站\n",
      "None\n",
      "天安门西站>>天安门东站>>王府井站>>东单站>>灯市口站>>东四站>>张自忠路站>>北新桥站>>雍和宫站>>安定门站>>鼓楼大街站>>安德里北街站>>安华桥站>>北土城站>>奥体中心站\n",
      "None\n"
     ]
    }
   ],
   "source": [
    "def geo_distance(origin, destination):\n",
    "   \n",
    "    lat1, lon1 = origin\n",
    "    lat2, lon2 = destination\n",
    "    radius = 6371  # km\n",
    "\n",
    "    dlat = math.radians(lat2 - lat1)\n",
    "    dlon = math.radians(lon2 - lon1)\n",
    "    a = (math.sin(dlat / 2) * math.sin(dlat / 2) +\n",
    "         math.cos(math.radians(lat1)) * math.cos(math.radians(lat2)) *\n",
    "         math.sin(dlon / 2) * math.sin(dlon / 2))\n",
    "    c = 2 * math.atan2(math.sqrt(a), math.sqrt(1 - a))\n",
    "    d = radius * c\n",
    "\n",
    "    return d\n",
    "\n",
    "def get_station_distance(station1, station2):\n",
    "    return geo_distance(stations_location[station1], stations_location[station2])\n",
    "\n",
    "\n",
    "def search (station1,station2,connnection_grpah,sort_candidate):\n",
    "    pathes = [[station1]]\n",
    "    vistied = set()\n",
    "    while pathes:\n",
    "        path = pathes.pop(0)\n",
    "        froninter = path[-1]\n",
    "        if froninter in vistied: continue\n",
    "        successors = connnection_grpah[froninter]\n",
    "        for station in successors:\n",
    "            if station in path:continue\n",
    "            new_path = path + [station]\n",
    "            pathes.append(new_path)\n",
    "            if station == station2: return new_path\n",
    "        pathes = sort_candidate(pathes)\n",
    "        vistied.add(froninter)       \n",
    "        \n",
    "\n",
    "def pretty_print(stations):\n",
    "    print('>>'.join(stations))\n",
    "    \n",
    "def transfer_station_first(pathes):\n",
    "    return sorted(pathes,key= len)\n",
    "\n",
    "\n",
    "def get_path_distance(path):\n",
    "    distance = 0\n",
    "    for index,station in enumerate(path[:-1]):\n",
    "        distance +=get_station_distance(station,path[index+1])\n",
    "    return distance\n",
    "\n",
    "def shortest_path_first(pathes):\n",
    "    return sorted(pathes,key = get_path_distance)        \n",
    "\n",
    "station1 = '天安门西站'\n",
    "station2 = '奥体中心站'\n",
    "# 最少换乘\n",
    "stations = search(station1,station2,station_connection,sort_candidate=transfer_station_first)\n",
    "print(pretty_print(stations))\n",
    "# 最短距离\n",
    "stations = search(station1,station2,station_connection,sort_candidate=shortest_path_first)\n",
    "print(pretty_print(stations))"
   ]
  },
  {
   "cell_type": "code",
   "execution_count": 69,
   "metadata": {},
   "outputs": [],
   "source": [
    "def search_way(start,destination, by_way):\n",
    "    if by_way =='C':\n",
    "        stations = search(station1,station2,station_connection,sort_candidate=transfer_station_first)\n",
    "        return pretty_print(stations)\n",
    "    elif by_way =='D':\n",
    "        stations = search(station1,station2,station_connection,sort_candidate=shortest_path_first)\n",
    "        return pretty_print(stations)\n",
    "    else: # 没有考虑综合\n",
    "        return None"
   ]
  },
  {
   "cell_type": "code",
   "execution_count": 71,
   "metadata": {},
   "outputs": [
    {
     "name": "stdout",
     "output_type": "stream",
     "text": [
      "天安门西站>>天安门东站>>王府井站>>东单站>>灯市口站>>东四站>>张自忠路站>>北新桥站>>雍和宫站>>安定门站>>鼓楼大街站>>安德里北街站>>安华桥站>>北土城站>>奥体中心站\n"
     ]
    }
   ],
   "source": [
    "search_way(start='天安门西站',destination='奥体中心站', by_way ='D') "
   ]
  },
  {
   "cell_type": "markdown",
   "metadata": {},
   "source": [
    "##### 5.\tTest your result with commercial applications. \n",
    "\n",
    "将你的结果和高德地图或者百度地图进行比较，如果有不同，请分析原因\n"
   ]
  },
  {
   "cell_type": "markdown",
   "metadata": {},
   "source": [
    "### 不一样，主要是因为获取的经纬度不对"
   ]
  },
  {
   "cell_type": "markdown",
   "metadata": {},
   "source": [
    "恭喜，完成本次课程，你对常用的人工智能方法以及有一定的了解了。基于规则的，基于概率模型的，基于搜索的，基于机器学习的。 可以说，我们现在通常见到的方法都能够归属到这几类方法中。 这就是**人工智能**，并没有很难是吧？ 继续加油！"
   ]
  },
  {
   "cell_type": "markdown",
   "metadata": {},
   "source": [
    "![](https://timgsa.baidu.com/timg?image&quality=80&size=b9999_10000&sec=1562415163815&di=4b29a2a863a8285212033760f288ed7a&imgtype=0&src=http%3A%2F%2F5b0988e595225.cdn.sohucs.com%2Fimages%2F20180710%2F8704194a1d7f46a383ddc29d40c9bca5.jpeg)"
   ]
  }
 ],
 "metadata": {
  "kernelspec": {
   "display_name": "Python 3",
   "language": "python",
   "name": "python3"
  },
  "language_info": {
   "codemirror_mode": {
    "name": "ipython",
    "version": 3
   },
   "file_extension": ".py",
   "mimetype": "text/x-python",
   "name": "python",
   "nbconvert_exporter": "python",
   "pygments_lexer": "ipython3",
   "version": "3.6.0"
  }
 },
 "nbformat": 4,
 "nbformat_minor": 2
}
